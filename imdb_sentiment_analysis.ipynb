{
 "cells": [
  {
   "cell_type": "code",
   "execution_count": 1,
   "metadata": {},
   "outputs": [],
   "source": [
    "# Import necessary libraries\n",
    "import pickle\n",
    "import re\n",
    "from nltk.corpus import stopwords\n",
    "from sklearn.feature_extraction.text import TfidfVectorizer\n",
    "from sklearn.model_selection import train_test_split, KFold, cross_val_score, GridSearchCV\n",
    "from sklearn.linear_model import LogisticRegression\n",
    "from sklearn.discriminant_analysis import LinearDiscriminantAnalysis\n",
    "from sklearn.naive_bayes import GaussianNB\n",
    "from sklearn.tree import DecisionTreeClassifier\n",
    "from sklearn.svm import LinearSVC\n",
    "from sklearn.metrics import accuracy_score"
   ]
  },
  {
   "cell_type": "code",
   "execution_count": 2,
   "metadata": {},
   "outputs": [],
   "source": [
    "# Load train data into memory\n",
    "with open(\"pickle_data/text_train.pickle\", \"rb\") as f:\n",
    "    text_train = pickle.load(f)\n",
    "\n",
    "with open(\"pickle_data/sent_train.pickle\", \"rb\") as f:\n",
    "    sent_train = pickle.load(f)"
   ]
  },
  {
   "cell_type": "code",
   "execution_count": 3,
   "metadata": {},
   "outputs": [],
   "source": [
    "# Preprocess the data\n",
    "corpus_train = []\n",
    "for text in text_train:\n",
    "    text = text.replace(\"<br /><br />\", \" \") # Replace <br /><br /> with space\n",
    "    text = re.sub(r'\\W', ' ', text) # Replace punctuations with space\n",
    "    text = text.lower() # Conveter to lower case\n",
    "    text = re.sub(r'\\s+[a-z]\\s+', ' ', text) # Replace single characters with space\n",
    "    text = re.sub(r'^[a-z]\\s+', ' ', text) # Replace single characters at the beginning of the sentencecs with space\n",
    "    text = re.sub(r'\\s+', ' ', text) # Replace multiple spaces with single space\n",
    "    corpus_train.append(text)"
   ]
  },
  {
   "cell_type": "code",
   "execution_count": 4,
   "metadata": {},
   "outputs": [
    {
     "data": {
      "text/plain": [
       "'zero day leads you to think even re think why two boys young men would do what they did commit mutual suicide via slaughtering their classmates it captures what must be beyond bizarre mode of being for two humans who have decided to withdraw from common civility in order to define their own mutual world via coupled destruction it is not perfect movie but given what money time the filmmaker and actors had it is remarkable product in terms of explaining the motives and actions of the two young suicide murderers it is better than elephant in terms of being film that gets under our rationalistic skin it is far far better film than almost anything you are likely to see flawed but honest with terrible honesty '"
      ]
     },
     "execution_count": 4,
     "metadata": {},
     "output_type": "execute_result"
    }
   ],
   "source": [
    "# Check to see the results of preprocessing\n",
    "corpus_train[0]"
   ]
  },
  {
   "cell_type": "code",
   "execution_count": 5,
   "metadata": {},
   "outputs": [],
   "source": [
    "# Convert string to TF-IDF model\n",
    "vectorizer = TfidfVectorizer(\n",
    "    max_features = 5000,\n",
    "    min_df = 3,\n",
    "    max_df = 0.6,\n",
    "    stop_words=stopwords.words('english'),\n",
    ")\n",
    "\n",
    "corpus_train_tfidf = vectorizer.fit_transform(corpus_train).toarray()"
   ]
  },
  {
   "cell_type": "code",
   "execution_count": 6,
   "metadata": {},
   "outputs": [
    {
     "data": {
      "text/plain": [
       "(25000, 5000)"
      ]
     },
     "execution_count": 6,
     "metadata": {},
     "output_type": "execute_result"
    }
   ],
   "source": [
    "corpus_train_tfidf.shape"
   ]
  },
  {
   "cell_type": "markdown",
   "metadata": {},
   "source": [
    "We will compare the performances of 5 baseline classification algorithms, which are:\n",
    "* Logistic Regrssion\n",
    "* Linear Discriminant Analysis\n",
    "* Decision Tree\n",
    "* Gaussian Naive Bayes\n",
    "* Linear SVC"
   ]
  },
  {
   "cell_type": "code",
   "execution_count": 7,
   "metadata": {},
   "outputs": [
    {
     "name": "stdout",
     "output_type": "stream",
     "text": [
      "LR: 0.8842399999999999 (0.005797102724637549)\n",
      "LDA: 0.85908 (0.006743411599479888)\n",
      "CART: 0.71296 (0.006541437150963073)\n",
      "NB: 0.8002800000000001 (0.009384327360018947)\n",
      "SVM: 0.8746 (0.006470239562798274)\n"
     ]
    }
   ],
   "source": [
    "\"\"\"\n",
    "Baseline algorithms\n",
    "\"\"\"\n",
    "\n",
    "# Parameters\n",
    "n_folds = 10 # 10 folds cross validation\n",
    "seed = 23 # To repeat the results\n",
    "\n",
    "# Baseline algorithms\n",
    "models = []\n",
    "models.append(('LR', LogisticRegression()))\n",
    "models.append(('LDA', LinearDiscriminantAnalysis()))\n",
    "models.append(('CART', DecisionTreeClassifier())) \n",
    "models.append(('NB', GaussianNB())) \n",
    "models.append(('SVM', LinearSVC()))\n",
    "\n",
    "results = []\n",
    "names = []\n",
    "for name, model in models:\n",
    "    cv = KFold(n_splits=n_folds, random_state=seed)\n",
    "    cv_results = cross_val_score(model, corpus_train_tfidf, sent_train, cv=cv, scoring=\"accuracy\")\n",
    "    results.append(cv_results)\n",
    "    names.append(name)\n",
    "    print(f\"{name}: {cv_results.mean()} ({cv_results.std()})\")   "
   ]
  },
  {
   "cell_type": "markdown",
   "metadata": {},
   "source": [
    "We can see that Logistic Regression and Linear SVC perform better than the other algorithms."
   ]
  },
  {
   "cell_type": "code",
   "execution_count": 8,
   "metadata": {},
   "outputs": [
    {
     "name": "stdout",
     "output_type": "stream",
     "text": [
      "Best: 0.88424 with {'C': 1}\n",
      "0.84288 (0.007392536777047502) with: {'C': 0.01}\n",
      "0.85904 (0.006993025096480058) with: {'C': 0.05}\n",
      "0.87636 (0.006353455752580638) with: {'C': 0.25}\n",
      "0.8814 (0.005722237324683412) with: {'C': 0.5}\n",
      "0.88424 (0.005797102724637549) with: {'C': 1}\n"
     ]
    }
   ],
   "source": [
    "# Tuning the parameters of Logistic Regression\n",
    "c_values = [0.01, 0.05, 0.25, 0.5, 1]\n",
    "param_grid = dict(C=c_values)\n",
    "model = LogisticRegression()\n",
    "cv = KFold(n_splits=n_folds, random_state=seed)\n",
    "grid = GridSearchCV(estimator=model, param_grid=param_grid, scoring=\"accuracy\", cv=cv)\n",
    "grid_result = grid.fit(corpus_train_tfidf, sent_train)\n",
    "print(f\"Best: {grid_result.best_score_} with {grid_result.best_params_}\")\n",
    "means = grid_result.cv_results_['mean_test_score'] \n",
    "stds = grid_result.cv_results_['std_test_score'] \n",
    "params = grid_result.cv_results_['params']\n",
    "for mean, stdev, param in zip(means, stds, params):\n",
    "    print(f\"{mean} ({stdev}) with: {param}\")"
   ]
  },
  {
   "cell_type": "code",
   "execution_count": 9,
   "metadata": {},
   "outputs": [
    {
     "name": "stdout",
     "output_type": "stream",
     "text": [
      "Best: 0.88368 with {'C': 0.25}\n",
      "0.86592 (0.006775957496915098) with: {'C': 0.01}\n",
      "0.88252 (0.005297697613114576) with: {'C': 0.05}\n",
      "0.88368 (0.003967064405829584) with: {'C': 0.25}\n",
      "0.87888 (0.004094093306215664) with: {'C': 0.5}\n",
      "0.8746 (0.006470239562798272) with: {'C': 1}\n"
     ]
    }
   ],
   "source": [
    "# Tuning the parameter of Linear SVC\n",
    "c_values = [0.01, 0.05, 0.25, 0.5, 1]\n",
    "param_grid = dict(C=c_values)\n",
    "model = LinearSVC()\n",
    "cv = KFold(n_splits=n_folds, random_state=seed)\n",
    "grid = GridSearchCV(estimator=model, param_grid=param_grid, scoring=\"accuracy\", cv=cv)\n",
    "grid_result = grid.fit(corpus_train_tfidf, sent_train)\n",
    "print(f\"Best: {grid_result.best_score_} with {grid_result.best_params_}\")\n",
    "means = grid_result.cv_results_['mean_test_score'] \n",
    "stds = grid_result.cv_results_['std_test_score'] \n",
    "params = grid_result.cv_results_['params']\n",
    "for mean, stdev, param in zip(means, stds, params):\n",
    "    print(f\"{mean} ({stdev}) with: {param}\")"
   ]
  },
  {
   "cell_type": "markdown",
   "metadata": {},
   "source": [
    "We can see that the best C value for Logistic Regression is 1 and the best C value for Linear SVC is 0.25."
   ]
  },
  {
   "cell_type": "code",
   "execution_count": 10,
   "metadata": {},
   "outputs": [
    {
     "data": {
      "text/plain": [
       "LogisticRegression(C=1, class_weight=None, dual=False, fit_intercept=True,\n",
       "          intercept_scaling=1, max_iter=100, multi_class='ovr', n_jobs=1,\n",
       "          penalty='l2', random_state=None, solver='liblinear', tol=0.0001,\n",
       "          verbose=0, warm_start=False)"
      ]
     },
     "execution_count": 10,
     "metadata": {},
     "output_type": "execute_result"
    }
   ],
   "source": [
    "# Final training of Logistic Regression\n",
    "lr_final = LogisticRegression(C=1)\n",
    "lr_final.fit(corpus_train_tfidf, sent_train)"
   ]
  },
  {
   "cell_type": "code",
   "execution_count": 11,
   "metadata": {},
   "outputs": [
    {
     "data": {
      "text/plain": [
       "LinearSVC(C=0.25, class_weight=None, dual=True, fit_intercept=True,\n",
       "     intercept_scaling=1, loss='squared_hinge', max_iter=1000,\n",
       "     multi_class='ovr', penalty='l2', random_state=None, tol=0.0001,\n",
       "     verbose=0)"
      ]
     },
     "execution_count": 11,
     "metadata": {},
     "output_type": "execute_result"
    }
   ],
   "source": [
    "# Final training of Linear SVC\n",
    "linear_svc_final = LinearSVC(C=0.25)\n",
    "linear_svc_final.fit(corpus_train_tfidf, sent_train)"
   ]
  },
  {
   "cell_type": "markdown",
   "metadata": {},
   "source": [
    "Then we want to check the performance of the above two models on test set."
   ]
  },
  {
   "cell_type": "code",
   "execution_count": 12,
   "metadata": {},
   "outputs": [],
   "source": [
    "# Load test data into memory\n",
    "with open(\"pickle_data/text_test.pickle\", \"rb\") as f:\n",
    "    text_test = pickle.load(f)\n",
    "\n",
    "with open(\"pickle_data/sent_test.pickle\", \"rb\") as f:\n",
    "    sent_test = pickle.load(f)"
   ]
  },
  {
   "cell_type": "code",
   "execution_count": 13,
   "metadata": {},
   "outputs": [],
   "source": [
    "# Preprocess the data\n",
    "corpus_test = []\n",
    "for text in text_test:\n",
    "    text = text.replace(\"<br /><br />\", \" \") # Replace <br /><br /> with space\n",
    "    text = re.sub(r'\\W', ' ', text) # Replace punctuations with space\n",
    "    text = text.lower() # Conveter to lower case\n",
    "    text = re.sub(r'\\s+[a-z]\\s+', ' ', text) # Replace single characters with space\n",
    "    text = re.sub(r'^[a-z]\\s+', ' ', text) # Replace single characters at the beginning of the sentencecs with space\n",
    "    text = re.sub(r'\\s+', ' ', text) # Replace multiple spaces with single space\n",
    "    corpus_test.append(text)"
   ]
  },
  {
   "cell_type": "code",
   "execution_count": 14,
   "metadata": {},
   "outputs": [],
   "source": [
    "corpus_test_tfidf = vectorizer.transform(corpus_test).toarray()"
   ]
  },
  {
   "cell_type": "code",
   "execution_count": 15,
   "metadata": {},
   "outputs": [
    {
     "data": {
      "text/plain": [
       "(25000, 5000)"
      ]
     },
     "execution_count": 15,
     "metadata": {},
     "output_type": "execute_result"
    }
   ],
   "source": [
    "corpus_test_tfidf.shape"
   ]
  },
  {
   "cell_type": "code",
   "execution_count": 16,
   "metadata": {},
   "outputs": [
    {
     "name": "stdout",
     "output_type": "stream",
     "text": [
      "Accuracy using Logistic Regression on test set: 0.88076\n",
      "Accuracy using Linear SVC on test set: 0.8778\n"
     ]
    }
   ],
   "source": [
    "# Show performance on test set\n",
    "print(f\"Accuracy using Logistic Regression on test set: {accuracy_score(sent_test, lr_final.predict(corpus_test_tfidf))}\")\n",
    "print(f\"Accuracy using Linear SVC on test set: {accuracy_score(sent_test, linear_svc_final.predict(corpus_test_tfidf))}\")"
   ]
  },
  {
   "cell_type": "markdown",
   "metadata": {},
   "source": [
    "Seems like that Logistic Regression performs a little better."
   ]
  },
  {
   "cell_type": "code",
   "execution_count": 17,
   "metadata": {},
   "outputs": [],
   "source": [
    "# Pickling the better model\n",
    "with open(\"pickle_data/lr_classifier.pickle\", \"wb\") as f:\n",
    "    pickle.dump(lr_final, f)\n",
    "\n",
    "# Pickling the vectorizer\n",
    "with open(\"pickle_data/tfidf_vectorizer.pickle\", \"wb\") as f:\n",
    "    pickle.dump(vectorizer, f)"
   ]
  },
  {
   "cell_type": "markdown",
   "metadata": {},
   "source": [
    "In the future, we can also investigate if ensemble methods can provide us even better results. Two kinds of ensemble methods can be investigated:\n",
    "* Boosting Methods: AdaBoost (AB) and Gradient Boosting (GBM)\n",
    "* Bagging Methods: Random Forests (RF) and Extra Trees (ET)"
   ]
  }
 ],
 "metadata": {
  "kernelspec": {
   "display_name": "Python 3",
   "language": "python",
   "name": "python3"
  },
  "language_info": {
   "codemirror_mode": {
    "name": "ipython",
    "version": 3
   },
   "file_extension": ".py",
   "mimetype": "text/x-python",
   "name": "python",
   "nbconvert_exporter": "python",
   "pygments_lexer": "ipython3",
   "version": "3.6.5"
  }
 },
 "nbformat": 4,
 "nbformat_minor": 2
}
